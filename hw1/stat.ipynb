{
 "cells": [
  {
   "cell_type": "code",
   "execution_count": 1,
   "metadata": {},
   "outputs": [],
   "source": [
    "import pandas as pd\n",
    "import numpy as np"
   ]
  },
  {
   "cell_type": "code",
   "execution_count": 2,
   "metadata": {},
   "outputs": [],
   "source": [
    "import matplotlib.pyplot as plt\n",
    "%matplotlib inline"
   ]
  },
  {
   "cell_type": "code",
   "execution_count": 3,
   "metadata": {},
   "outputs": [],
   "source": [
    "df = pd.read_csv('hw1_data.csv')\n",
    "df = df.drop(['title', 'release_date', 'production_companies', 'production_countries'], axis=1)"
   ]
  },
  {
   "cell_type": "code",
   "execution_count": 4,
   "metadata": {},
   "outputs": [],
   "source": [
    "df = df[df['budget'] != 0]\n",
    "df['profit'] = (df['revenue'] - df['budget'])/df['budget']"
   ]
  },
  {
   "cell_type": "code",
   "execution_count": 5,
   "metadata": {},
   "outputs": [
    {
     "data": {
      "text/html": [
       "<div>\n",
       "<style scoped>\n",
       "    .dataframe tbody tr th:only-of-type {\n",
       "        vertical-align: middle;\n",
       "    }\n",
       "\n",
       "    .dataframe tbody tr th {\n",
       "        vertical-align: top;\n",
       "    }\n",
       "\n",
       "    .dataframe thead th {\n",
       "        text-align: right;\n",
       "    }\n",
       "</style>\n",
       "<table border=\"1\" class=\"dataframe\">\n",
       "  <thead>\n",
       "    <tr style=\"text-align: right;\">\n",
       "      <th></th>\n",
       "      <th>genres</th>\n",
       "      <th>budget</th>\n",
       "      <th>revenue</th>\n",
       "      <th>runtime</th>\n",
       "      <th>vote_average</th>\n",
       "      <th>profit</th>\n",
       "    </tr>\n",
       "  </thead>\n",
       "  <tbody>\n",
       "    <tr>\n",
       "      <th>2</th>\n",
       "      <td>Animation</td>\n",
       "      <td>9.259515e+07</td>\n",
       "      <td>3.330425e+08</td>\n",
       "      <td>91.770115</td>\n",
       "      <td>6.387356</td>\n",
       "      <td>2.984725</td>\n",
       "    </tr>\n",
       "  </tbody>\n",
       "</table>\n",
       "</div>"
      ],
      "text/plain": [
       "      genres        budget       revenue    runtime  vote_average    profit\n",
       "2  Animation  9.259515e+07  3.330425e+08  91.770115      6.387356  2.984725"
      ]
     },
     "execution_count": 5,
     "metadata": {},
     "output_type": "execute_result"
    }
   ],
   "source": [
    "movies_by_genre = df.groupby(['genres'], as_index=False).mean()\n",
    "max_profit = movies_by_genre[\n",
    "    movies_by_genre['profit'] == movies_by_genre['profit'].max()\n",
    "]\n",
    "max_profit"
   ]
  },
  {
   "cell_type": "code",
   "execution_count": 6,
   "metadata": {},
   "outputs": [
    {
     "name": "stdout",
     "output_type": "stream",
     "text": [
      "Budget: 92,595,145.97\n",
      "Revenue: 333,042,519.93\n"
     ]
    }
   ],
   "source": [
    "print(f\"Budget: {max_profit.budget.iloc[0]:,.2f}\")\n",
    "print(f\"Revenue: {max_profit.revenue.iloc[0]:,.2f}\")"
   ]
  },
  {
   "cell_type": "code",
   "execution_count": 7,
   "metadata": {},
   "outputs": [],
   "source": [
    "df2 = df[df['genres'] == max_profit.genres.iloc[0]]\n",
    "df2 = df2.drop(['genres', 'budget', 'revenue'], axis=1)"
   ]
  },
  {
   "cell_type": "code",
   "execution_count": 8,
   "metadata": {},
   "outputs": [
    {
     "data": {
      "text/plain": [
       "array([[<matplotlib.axes._subplots.AxesSubplot object at 0x10d0e8c88>,\n",
       "        <matplotlib.axes._subplots.AxesSubplot object at 0x1120bc908>],\n",
       "       [<matplotlib.axes._subplots.AxesSubplot object at 0x1120f4ba8>,\n",
       "        <matplotlib.axes._subplots.AxesSubplot object at 0x11212fc18>]],\n",
       "      dtype=object)"
      ]
     },
     "execution_count": 8,
     "metadata": {},
     "output_type": "execute_result"
    },
    {
     "data": {
      "image/png": "[encoded data removed]",
      "text/plain": [
       "<matplotlib.figure.Figure at 0x10efd1860>"
      ]
     },
     "metadata": {},
     "output_type": "display_data"
    }
   ],
   "source": [
    "df2.hist(figsize=(15, 10), bins=10)"
   ]
  },
  {
   "cell_type": "code",
   "execution_count": 9,
   "metadata": {},
   "outputs": [],
   "source": [
    "df2 = df2.sort_values('profit')"
   ]
  },
  {
   "cell_type": "code",
   "execution_count": 27,
   "metadata": {},
   "outputs": [],
   "source": [
    "min_profit = df2['profit'].min()\n",
    "max_profit = df2['profit'].max()\n",
    "bins_size = (max_profit - min_profit)/11\n",
    "bins = np.arange(min_profit, max_profit, bins_size)"
   ]
  },
  {
   "cell_type": "code",
   "execution_count": 28,
   "metadata": {},
   "outputs": [
    {
     "data": {
      "text/html": [
       "<div>\n",
       "<style scoped>\n",
       "    .dataframe tbody tr th:only-of-type {\n",
       "        vertical-align: middle;\n",
       "    }\n",
       "\n",
       "    .dataframe tbody tr th {\n",
       "        vertical-align: top;\n",
       "    }\n",
       "\n",
       "    .dataframe thead th {\n",
       "        text-align: right;\n",
       "    }\n",
       "</style>\n",
       "<table border=\"1\" class=\"dataframe\">\n",
       "  <thead>\n",
       "    <tr style=\"text-align: right;\">\n",
       "      <th></th>\n",
       "      <th>runtime</th>\n",
       "      <th>vote_average</th>\n",
       "      <th>profit</th>\n",
       "    </tr>\n",
       "    <tr>\n",
       "      <th>profit</th>\n",
       "      <th></th>\n",
       "      <th></th>\n",
       "      <th></th>\n",
       "    </tr>\n",
       "  </thead>\n",
       "  <tbody>\n",
       "    <tr>\n",
       "      <th>(-1.0, 1.948]</th>\n",
       "      <td>90.510638</td>\n",
       "      <td>6.129787</td>\n",
       "      <td>0.652635</td>\n",
       "    </tr>\n",
       "    <tr>\n",
       "      <th>(1.948, 4.895]</th>\n",
       "      <td>94.960000</td>\n",
       "      <td>6.600000</td>\n",
       "      <td>3.340230</td>\n",
       "    </tr>\n",
       "    <tr>\n",
       "      <th>(4.895, 7.843]</th>\n",
       "      <td>90.833333</td>\n",
       "      <td>6.933333</td>\n",
       "      <td>6.345395</td>\n",
       "    </tr>\n",
       "    <tr>\n",
       "      <th>(7.843, 10.79]</th>\n",
       "      <td>92.250000</td>\n",
       "      <td>6.550000</td>\n",
       "      <td>9.192311</td>\n",
       "    </tr>\n",
       "    <tr>\n",
       "      <th>(10.79, 13.738]</th>\n",
       "      <td>89.500000</td>\n",
       "      <td>7.350000</td>\n",
       "      <td>11.612492</td>\n",
       "    </tr>\n",
       "    <tr>\n",
       "      <th>(13.738, 16.685]</th>\n",
       "      <td>NaN</td>\n",
       "      <td>NaN</td>\n",
       "      <td>NaN</td>\n",
       "    </tr>\n",
       "    <tr>\n",
       "      <th>(16.685, 19.633]</th>\n",
       "      <td>90.000000</td>\n",
       "      <td>7.400000</td>\n",
       "      <td>17.001794</td>\n",
       "    </tr>\n",
       "    <tr>\n",
       "      <th>(19.633, 22.58]</th>\n",
       "      <td>NaN</td>\n",
       "      <td>NaN</td>\n",
       "      <td>NaN</td>\n",
       "    </tr>\n",
       "    <tr>\n",
       "      <th>(22.58, 25.528]</th>\n",
       "      <td>NaN</td>\n",
       "      <td>NaN</td>\n",
       "      <td>NaN</td>\n",
       "    </tr>\n",
       "    <tr>\n",
       "      <th>(25.528, 28.476]</th>\n",
       "      <td>NaN</td>\n",
       "      <td>NaN</td>\n",
       "      <td>NaN</td>\n",
       "    </tr>\n",
       "  </tbody>\n",
       "</table>\n",
       "</div>"
      ],
      "text/plain": [
       "                    runtime  vote_average     profit\n",
       "profit                                              \n",
       "(-1.0, 1.948]     90.510638      6.129787   0.652635\n",
       "(1.948, 4.895]    94.960000      6.600000   3.340230\n",
       "(4.895, 7.843]    90.833333      6.933333   6.345395\n",
       "(7.843, 10.79]    92.250000      6.550000   9.192311\n",
       "(10.79, 13.738]   89.500000      7.350000  11.612492\n",
       "(13.738, 16.685]        NaN           NaN        NaN\n",
       "(16.685, 19.633]  90.000000      7.400000  17.001794\n",
       "(19.633, 22.58]         NaN           NaN        NaN\n",
       "(22.58, 25.528]         NaN           NaN        NaN\n",
       "(25.528, 28.476]        NaN           NaN        NaN"
      ]
     },
     "execution_count": 28,
     "metadata": {},
     "output_type": "execute_result"
    }
   ],
   "source": [
    "df2.groupby(pd.cut(df2[\"profit\"], bins)).mean()"
   ]
  },
  {
   "cell_type": "code",
   "execution_count": null,
   "metadata": {},
   "outputs": [],
   "source": []
  }
 ],
 "metadata": {
  "kernelspec": {
   "display_name": "Python 3",
   "language": "python",
   "name": "python3"
  },
  "language_info": {
   "codemirror_mode": {
    "name": "ipython",
    "version": 3
   },
   "file_extension": ".py",
   "mimetype": "text/x-python",
   "name": "python",
   "nbconvert_exporter": "python",
   "pygments_lexer": "ipython3",
   "version": "3.6.4"
  }
 },
 "nbformat": 4,
 "nbformat_minor": 2
}
